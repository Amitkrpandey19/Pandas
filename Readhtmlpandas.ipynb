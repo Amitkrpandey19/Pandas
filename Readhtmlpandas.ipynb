{
 "cells": [
  {
   "cell_type": "code",
   "execution_count": 2,
   "id": "b9aa7af3-d0d2-4357-b1d3-f455f237ceb2",
   "metadata": {},
   "outputs": [],
   "source": [
    "import pandas as pd\n",
    "df4=pd.read_html(\"https://stats.espncricinfo.com/ci/content/records/223375.html\")"
   ]
  },
  {
   "cell_type": "code",
   "execution_count": 4,
   "id": "18042d59-0023-427c-b3b7-90204f35e9c4",
   "metadata": {},
   "outputs": [
    {
     "data": {
      "text/plain": [
       "list"
      ]
     },
     "execution_count": 4,
     "metadata": {},
     "output_type": "execute_result"
    }
   ],
   "source": [
    "type([df4])"
   ]
  },
  {
   "cell_type": "code",
   "execution_count": 7,
   "id": "e3d54bcb-1682-4e22-83f7-bf70022f9d04",
   "metadata": {},
   "outputs": [],
   "source": [
    "cri_data = df4[0]"
   ]
  },
  {
   "cell_type": "code",
   "execution_count": 9,
   "id": "63818067-d79d-4152-af46-817455e5d7af",
   "metadata": {},
   "outputs": [
    {
     "data": {
      "text/html": [
       "<div>\n",
       "<style scoped>\n",
       "    .dataframe tbody tr th:only-of-type {\n",
       "        vertical-align: middle;\n",
       "    }\n",
       "\n",
       "    .dataframe tbody tr th {\n",
       "        vertical-align: top;\n",
       "    }\n",
       "\n",
       "    .dataframe thead th {\n",
       "        text-align: right;\n",
       "    }\n",
       "</style>\n",
       "<table border=\"1\" class=\"dataframe\">\n",
       "  <thead>\n",
       "    <tr style=\"text-align: right;\">\n",
       "      <th></th>\n",
       "      <th>Player</th>\n",
       "      <th>Span</th>\n",
       "      <th>Mat</th>\n",
       "      <th>Runs</th>\n",
       "      <th>HS</th>\n",
       "      <th>Ave</th>\n",
       "      <th>100</th>\n",
       "      <th>Wkts</th>\n",
       "      <th>BBI</th>\n",
       "      <th>Ave.1</th>\n",
       "      <th>5</th>\n",
       "      <th>Ct</th>\n",
       "      <th>St</th>\n",
       "    </tr>\n",
       "  </thead>\n",
       "  <tbody>\n",
       "    <tr>\n",
       "      <th>0</th>\n",
       "      <td>SR Tendulkar (IND)</td>\n",
       "      <td>1989-2012</td>\n",
       "      <td>463</td>\n",
       "      <td>18426</td>\n",
       "      <td>200*</td>\n",
       "      <td>44.83</td>\n",
       "      <td>49</td>\n",
       "      <td>154</td>\n",
       "      <td>5/32</td>\n",
       "      <td>44.48</td>\n",
       "      <td>2</td>\n",
       "      <td>140</td>\n",
       "      <td>0</td>\n",
       "    </tr>\n",
       "    <tr>\n",
       "      <th>1</th>\n",
       "      <td>DPMD Jayawardene (Asia/SL)</td>\n",
       "      <td>1998-2015</td>\n",
       "      <td>448</td>\n",
       "      <td>12650</td>\n",
       "      <td>144</td>\n",
       "      <td>33.37</td>\n",
       "      <td>19</td>\n",
       "      <td>8</td>\n",
       "      <td>2/56</td>\n",
       "      <td>70.37</td>\n",
       "      <td>0</td>\n",
       "      <td>218</td>\n",
       "      <td>0</td>\n",
       "    </tr>\n",
       "    <tr>\n",
       "      <th>2</th>\n",
       "      <td>ST Jayasuriya (Asia/SL)</td>\n",
       "      <td>1989-2011</td>\n",
       "      <td>445</td>\n",
       "      <td>13430</td>\n",
       "      <td>189</td>\n",
       "      <td>32.36</td>\n",
       "      <td>28</td>\n",
       "      <td>323</td>\n",
       "      <td>6/29</td>\n",
       "      <td>36.75</td>\n",
       "      <td>4</td>\n",
       "      <td>123</td>\n",
       "      <td>0</td>\n",
       "    </tr>\n",
       "    <tr>\n",
       "      <th>3</th>\n",
       "      <td>KC Sangakkara (Asia/ICC/SL)</td>\n",
       "      <td>2000-2015</td>\n",
       "      <td>404</td>\n",
       "      <td>14234</td>\n",
       "      <td>169</td>\n",
       "      <td>41.98</td>\n",
       "      <td>25</td>\n",
       "      <td>-</td>\n",
       "      <td>-</td>\n",
       "      <td>-</td>\n",
       "      <td>-</td>\n",
       "      <td>402</td>\n",
       "      <td>99</td>\n",
       "    </tr>\n",
       "  </tbody>\n",
       "</table>\n",
       "</div>"
      ],
      "text/plain": [
       "                        Player       Span  Mat   Runs    HS    Ave  100 Wkts  \\\n",
       "0           SR Tendulkar (IND)  1989-2012  463  18426  200*  44.83   49  154   \n",
       "1   DPMD Jayawardene (Asia/SL)  1998-2015  448  12650   144  33.37   19    8   \n",
       "2      ST Jayasuriya (Asia/SL)  1989-2011  445  13430   189  32.36   28  323   \n",
       "3  KC Sangakkara (Asia/ICC/SL)  2000-2015  404  14234   169  41.98   25    -   \n",
       "\n",
       "    BBI  Ave.1  5   Ct  St  \n",
       "0  5/32  44.48  2  140   0  \n",
       "1  2/56  70.37  0  218   0  \n",
       "2  6/29  36.75  4  123   0  \n",
       "3     -      -  -  402  99  "
      ]
     },
     "execution_count": 9,
     "metadata": {},
     "output_type": "execute_result"
    }
   ],
   "source": [
    "cri_data.head(4)"
   ]
  },
  {
   "cell_type": "code",
   "execution_count": 13,
   "id": "b0af638e-f3db-4be9-85f0-b7d301cd2e96",
   "metadata": {},
   "outputs": [
    {
     "data": {
      "text/html": [
       "<div>\n",
       "<style scoped>\n",
       "    .dataframe tbody tr th:only-of-type {\n",
       "        vertical-align: middle;\n",
       "    }\n",
       "\n",
       "    .dataframe tbody tr th {\n",
       "        vertical-align: top;\n",
       "    }\n",
       "\n",
       "    .dataframe thead th {\n",
       "        text-align: right;\n",
       "    }\n",
       "</style>\n",
       "<table border=\"1\" class=\"dataframe\">\n",
       "  <thead>\n",
       "    <tr style=\"text-align: right;\">\n",
       "      <th></th>\n",
       "      <th>Player</th>\n",
       "      <th>Span</th>\n",
       "      <th>Mat</th>\n",
       "      <th>Runs</th>\n",
       "      <th>HS</th>\n",
       "      <th>Ave</th>\n",
       "      <th>100</th>\n",
       "      <th>Wkts</th>\n",
       "      <th>BBI</th>\n",
       "      <th>Ave.1</th>\n",
       "      <th>5</th>\n",
       "      <th>Ct</th>\n",
       "      <th>St</th>\n",
       "    </tr>\n",
       "  </thead>\n",
       "  <tbody>\n",
       "    <tr>\n",
       "      <th>80</th>\n",
       "      <td>MN Samuels (WI)</td>\n",
       "      <td>2000-2018</td>\n",
       "      <td>207</td>\n",
       "      <td>5606</td>\n",
       "      <td>133*</td>\n",
       "      <td>32.97</td>\n",
       "      <td>10</td>\n",
       "      <td>89</td>\n",
       "      <td>3/12</td>\n",
       "      <td>46.37</td>\n",
       "      <td>0</td>\n",
       "      <td>50</td>\n",
       "      <td>0</td>\n",
       "    </tr>\n",
       "    <tr>\n",
       "      <th>81</th>\n",
       "      <td>BRM Taylor (ZIM)</td>\n",
       "      <td>2004-2021</td>\n",
       "      <td>205</td>\n",
       "      <td>6684</td>\n",
       "      <td>145*</td>\n",
       "      <td>35.55</td>\n",
       "      <td>11</td>\n",
       "      <td>9</td>\n",
       "      <td>3/54</td>\n",
       "      <td>45.11</td>\n",
       "      <td>0</td>\n",
       "      <td>133</td>\n",
       "      <td>29</td>\n",
       "    </tr>\n",
       "    <tr>\n",
       "      <th>82</th>\n",
       "      <td>CA Walsh (WI)</td>\n",
       "      <td>1985-2000</td>\n",
       "      <td>205</td>\n",
       "      <td>321</td>\n",
       "      <td>30</td>\n",
       "      <td>6.97</td>\n",
       "      <td>0</td>\n",
       "      <td>227</td>\n",
       "      <td>5/1</td>\n",
       "      <td>30.47</td>\n",
       "      <td>1</td>\n",
       "      <td>27</td>\n",
       "      <td>0</td>\n",
       "    </tr>\n",
       "    <tr>\n",
       "      <th>83</th>\n",
       "      <td>Z Khan (Asia/IND)</td>\n",
       "      <td>2000-2012</td>\n",
       "      <td>200</td>\n",
       "      <td>792</td>\n",
       "      <td>34*</td>\n",
       "      <td>12.00</td>\n",
       "      <td>0</td>\n",
       "      <td>282</td>\n",
       "      <td>5/42</td>\n",
       "      <td>29.43</td>\n",
       "      <td>1</td>\n",
       "      <td>43</td>\n",
       "      <td>0</td>\n",
       "    </tr>\n",
       "    <tr>\n",
       "      <th>84</th>\n",
       "      <td>HP Tillakaratne (SL)</td>\n",
       "      <td>1986-2003</td>\n",
       "      <td>200</td>\n",
       "      <td>3789</td>\n",
       "      <td>104</td>\n",
       "      <td>29.60</td>\n",
       "      <td>2</td>\n",
       "      <td>6</td>\n",
       "      <td>1/3</td>\n",
       "      <td>23.50</td>\n",
       "      <td>0</td>\n",
       "      <td>89</td>\n",
       "      <td>6</td>\n",
       "    </tr>\n",
       "  </tbody>\n",
       "</table>\n",
       "</div>"
      ],
      "text/plain": [
       "                  Player       Span  Mat  Runs    HS    Ave  100 Wkts   BBI  \\\n",
       "80       MN Samuels (WI)  2000-2018  207  5606  133*  32.97   10   89  3/12   \n",
       "81      BRM Taylor (ZIM)  2004-2021  205  6684  145*  35.55   11    9  3/54   \n",
       "82         CA Walsh (WI)  1985-2000  205   321    30   6.97    0  227   5/1   \n",
       "83     Z Khan (Asia/IND)  2000-2012  200   792   34*  12.00    0  282  5/42   \n",
       "84  HP Tillakaratne (SL)  1986-2003  200  3789   104  29.60    2    6   1/3   \n",
       "\n",
       "    Ave.1  5   Ct  St  \n",
       "80  46.37  0   50   0  \n",
       "81  45.11  0  133  29  \n",
       "82  30.47  1   27   0  \n",
       "83  29.43  1   43   0  \n",
       "84  23.50  0   89   6  "
      ]
     },
     "execution_count": 13,
     "metadata": {},
     "output_type": "execute_result"
    }
   ],
   "source": [
    "cri_data.tail(5)"
   ]
  },
  {
   "cell_type": "code",
   "execution_count": 15,
   "id": "a57f15b6-42e5-4754-83f3-a72d4623cd98",
   "metadata": {},
   "outputs": [
    {
     "data": {
      "text/plain": [
       "Index(['Player', 'Span', 'Mat', 'Runs', 'HS', 'Ave', '100', 'Wkts', 'BBI',\n",
       "       'Ave.1', '5', 'Ct', 'St'],\n",
       "      dtype='object')"
      ]
     },
     "execution_count": 15,
     "metadata": {},
     "output_type": "execute_result"
    }
   ],
   "source": [
    "cri_data.columns"
   ]
  },
  {
   "cell_type": "code",
   "execution_count": 19,
   "id": "5debcd27-8c09-4631-bfd5-6c4ecf4d8b0d",
   "metadata": {},
   "outputs": [
    {
     "data": {
      "text/html": [
       "<div>\n",
       "<style scoped>\n",
       "    .dataframe tbody tr th:only-of-type {\n",
       "        vertical-align: middle;\n",
       "    }\n",
       "\n",
       "    .dataframe tbody tr th {\n",
       "        vertical-align: top;\n",
       "    }\n",
       "\n",
       "    .dataframe thead th {\n",
       "        text-align: right;\n",
       "    }\n",
       "</style>\n",
       "<table border=\"1\" class=\"dataframe\">\n",
       "  <thead>\n",
       "    <tr style=\"text-align: right;\">\n",
       "      <th></th>\n",
       "      <th>Player</th>\n",
       "      <th>Mat</th>\n",
       "      <th>HS</th>\n",
       "    </tr>\n",
       "  </thead>\n",
       "  <tbody>\n",
       "    <tr>\n",
       "      <th>0</th>\n",
       "      <td>SR Tendulkar (IND)</td>\n",
       "      <td>463</td>\n",
       "      <td>200*</td>\n",
       "    </tr>\n",
       "    <tr>\n",
       "      <th>1</th>\n",
       "      <td>DPMD Jayawardene (Asia/SL)</td>\n",
       "      <td>448</td>\n",
       "      <td>144</td>\n",
       "    </tr>\n",
       "    <tr>\n",
       "      <th>2</th>\n",
       "      <td>ST Jayasuriya (Asia/SL)</td>\n",
       "      <td>445</td>\n",
       "      <td>189</td>\n",
       "    </tr>\n",
       "    <tr>\n",
       "      <th>3</th>\n",
       "      <td>KC Sangakkara (Asia/ICC/SL)</td>\n",
       "      <td>404</td>\n",
       "      <td>169</td>\n",
       "    </tr>\n",
       "    <tr>\n",
       "      <th>4</th>\n",
       "      <td>Shahid Afridi (Asia/ICC/PAK)</td>\n",
       "      <td>398</td>\n",
       "      <td>124</td>\n",
       "    </tr>\n",
       "    <tr>\n",
       "      <th>...</th>\n",
       "      <td>...</td>\n",
       "      <td>...</td>\n",
       "      <td>...</td>\n",
       "    </tr>\n",
       "    <tr>\n",
       "      <th>80</th>\n",
       "      <td>MN Samuels (WI)</td>\n",
       "      <td>207</td>\n",
       "      <td>133*</td>\n",
       "    </tr>\n",
       "    <tr>\n",
       "      <th>81</th>\n",
       "      <td>BRM Taylor (ZIM)</td>\n",
       "      <td>205</td>\n",
       "      <td>145*</td>\n",
       "    </tr>\n",
       "    <tr>\n",
       "      <th>82</th>\n",
       "      <td>CA Walsh (WI)</td>\n",
       "      <td>205</td>\n",
       "      <td>30</td>\n",
       "    </tr>\n",
       "    <tr>\n",
       "      <th>83</th>\n",
       "      <td>Z Khan (Asia/IND)</td>\n",
       "      <td>200</td>\n",
       "      <td>34*</td>\n",
       "    </tr>\n",
       "    <tr>\n",
       "      <th>84</th>\n",
       "      <td>HP Tillakaratne (SL)</td>\n",
       "      <td>200</td>\n",
       "      <td>104</td>\n",
       "    </tr>\n",
       "  </tbody>\n",
       "</table>\n",
       "<p>85 rows × 3 columns</p>\n",
       "</div>"
      ],
      "text/plain": [
       "                          Player  Mat    HS\n",
       "0             SR Tendulkar (IND)  463  200*\n",
       "1     DPMD Jayawardene (Asia/SL)  448   144\n",
       "2        ST Jayasuriya (Asia/SL)  445   189\n",
       "3    KC Sangakkara (Asia/ICC/SL)  404   169\n",
       "4   Shahid Afridi (Asia/ICC/PAK)  398   124\n",
       "..                           ...  ...   ...\n",
       "80               MN Samuels (WI)  207  133*\n",
       "81              BRM Taylor (ZIM)  205  145*\n",
       "82                 CA Walsh (WI)  205    30\n",
       "83             Z Khan (Asia/IND)  200   34*\n",
       "84          HP Tillakaratne (SL)  200   104\n",
       "\n",
       "[85 rows x 3 columns]"
      ]
     },
     "execution_count": 19,
     "metadata": {},
     "output_type": "execute_result"
    }
   ],
   "source": [
    "cri_data[['Player','Mat','HS']]"
   ]
  },
  {
   "cell_type": "code",
   "execution_count": 26,
   "id": "8b91ed75-e82e-4b95-9b11-f2c1b91c74dc",
   "metadata": {},
   "outputs": [
    {
     "ename": "AttributeError",
     "evalue": "module 'pandas' has no attribute 'df5'",
     "output_type": "error",
     "traceback": [
      "\u001b[0;31m---------------------------------------------------------------------------\u001b[0m",
      "\u001b[0;31mAttributeError\u001b[0m                            Traceback (most recent call last)",
      "Cell \u001b[0;32mIn[26], line 3\u001b[0m\n\u001b[1;32m      1\u001b[0m list1\u001b[38;5;241m=\u001b[39m[\u001b[38;5;241m4\u001b[39m,\u001b[38;5;241m8\u001b[39m,\u001b[38;5;241m15\u001b[39m,\u001b[38;5;241m16\u001b[39m,\u001b[38;5;241m23\u001b[39m,\u001b[38;5;241m42\u001b[39m]\n\u001b[1;32m      2\u001b[0m df5\u001b[38;5;241m=\u001b[39mlist1\n\u001b[0;32m----> 3\u001b[0m \u001b[43mpd\u001b[49m\u001b[38;5;241;43m.\u001b[39;49m\u001b[43mdf5\u001b[49m()\n",
      "File \u001b[0;32m/opt/conda/lib/python3.10/site-packages/pandas/__init__.py:264\u001b[0m, in \u001b[0;36m__getattr__\u001b[0;34m(name)\u001b[0m\n\u001b[1;32m    260\u001b[0m     \u001b[38;5;28;01mfrom\u001b[39;00m \u001b[38;5;21;01mpandas\u001b[39;00m\u001b[38;5;21;01m.\u001b[39;00m\u001b[38;5;21;01mcore\u001b[39;00m\u001b[38;5;21;01m.\u001b[39;00m\u001b[38;5;21;01marrays\u001b[39;00m\u001b[38;5;21;01m.\u001b[39;00m\u001b[38;5;21;01msparse\u001b[39;00m \u001b[38;5;28;01mimport\u001b[39;00m SparseArray \u001b[38;5;28;01mas\u001b[39;00m _SparseArray\n\u001b[1;32m    262\u001b[0m     \u001b[38;5;28;01mreturn\u001b[39;00m _SparseArray\n\u001b[0;32m--> 264\u001b[0m \u001b[38;5;28;01mraise\u001b[39;00m \u001b[38;5;167;01mAttributeError\u001b[39;00m(\u001b[38;5;124mf\u001b[39m\u001b[38;5;124m\"\u001b[39m\u001b[38;5;124mmodule \u001b[39m\u001b[38;5;124m'\u001b[39m\u001b[38;5;124mpandas\u001b[39m\u001b[38;5;124m'\u001b[39m\u001b[38;5;124m has no attribute \u001b[39m\u001b[38;5;124m'\u001b[39m\u001b[38;5;132;01m{\u001b[39;00mname\u001b[38;5;132;01m}\u001b[39;00m\u001b[38;5;124m'\u001b[39m\u001b[38;5;124m\"\u001b[39m)\n",
      "\u001b[0;31mAttributeError\u001b[0m: module 'pandas' has no attribute 'df5'"
     ]
    }
   ],
   "source": [
    "list1=[4,8,15,16,23,42]\n",
    "df5=list1\n"
   ]
  },
  {
   "cell_type": "code",
   "execution_count": 27,
   "id": "2e8e794a-4929-4b72-9282-6c79bb6d5ddf",
   "metadata": {},
   "outputs": [
    {
     "data": {
      "text/plain": [
       "list"
      ]
     },
     "execution_count": 27,
     "metadata": {},
     "output_type": "execute_result"
    }
   ],
   "source": [
    "type([list1])"
   ]
  },
  {
   "cell_type": "code",
   "execution_count": 28,
   "id": "ff4e4a5c-ccf2-4b02-ba3f-bbbcf1a8f5c3",
   "metadata": {},
   "outputs": [],
   "source": [
    "df5=list1"
   ]
  },
  {
   "cell_type": "code",
   "execution_count": 29,
   "id": "f0ba83e9-e7ee-4a15-811e-2e47a42540fd",
   "metadata": {},
   "outputs": [
    {
     "ename": "AttributeError",
     "evalue": "'list' object has no attribute 'head'",
     "output_type": "error",
     "traceback": [
      "\u001b[0;31m---------------------------------------------------------------------------\u001b[0m",
      "\u001b[0;31mAttributeError\u001b[0m                            Traceback (most recent call last)",
      "Cell \u001b[0;32mIn[29], line 1\u001b[0m\n\u001b[0;32m----> 1\u001b[0m \u001b[43mdf5\u001b[49m\u001b[38;5;241;43m.\u001b[39;49m\u001b[43mhead\u001b[49m()\n",
      "\u001b[0;31mAttributeError\u001b[0m: 'list' object has no attribute 'head'"
     ]
    }
   ],
   "source": [
    "df5.head()"
   ]
  },
  {
   "cell_type": "code",
   "execution_count": 30,
   "id": "1c5c8b2b-d2cc-47ce-a4e5-882db9737c3d",
   "metadata": {},
   "outputs": [
    {
     "name": "stdout",
     "output_type": "stream",
     "text": [
      "Series([], dtype: float64)\n"
     ]
    },
    {
     "name": "stderr",
     "output_type": "stream",
     "text": [
      "/tmp/ipykernel_3198/39034586.py:2: FutureWarning: The default dtype for empty Series will be 'object' instead of 'float64' in a future version. Specify a dtype explicitly to silence this warning.\n",
      "  ser=pd.Series()\n"
     ]
    }
   ],
   "source": [
    "import pandas as pd\n",
    "ser=pd.Series()\n",
    "print(ser)\n"
   ]
  },
  {
   "cell_type": "code",
   "execution_count": 32,
   "id": "2069c5dc-04b4-4559-90f2-00ce9fa975bf",
   "metadata": {},
   "outputs": [
    {
     "name": "stdout",
     "output_type": "stream",
     "text": [
      "Series([], dtype: float64)\n",
      "0     4\n",
      "1     8\n",
      "2    15\n",
      "3    16\n",
      "4    23\n",
      "5    42\n",
      "dtype: object\n"
     ]
    },
    {
     "name": "stderr",
     "output_type": "stream",
     "text": [
      "/tmp/ipykernel_3198/4063737942.py:6: FutureWarning: The default dtype for empty Series will be 'object' instead of 'float64' in a future version. Specify a dtype explicitly to silence this warning.\n",
      "  ser = pd.Series()\n"
     ]
    }
   ],
   "source": [
    "import pandas as pd\n",
    "import numpy as np\n",
    " \n",
    " \n",
    "# Creating empty series\n",
    "ser = pd.Series()\n",
    "   \n",
    "print(ser)\n",
    " \n",
    "# simple array\n",
    "data = np.array(['4', '8', '15', '16', '23','42'])\n",
    "   \n",
    "ser = pd.Series(data)\n",
    "print(ser)\n"
   ]
  },
  {
   "cell_type": "code",
   "execution_count": 34,
   "id": "548a11d5-2a4c-43ab-8c64-bc3b34ba2b06",
   "metadata": {},
   "outputs": [
    {
     "name": "stdout",
     "output_type": "stream",
     "text": [
      "[5, 10, 15, 20, 25, 30, 35, 40, 45, 50]\n"
     ]
    }
   ],
   "source": [
    "list1=[5,10,15,20,25,30,35,40,45,50]\n",
    "print(list1)"
   ]
  },
  {
   "cell_type": "code",
   "execution_count": 39,
   "id": "867fd4cc-5d38-4194-a13d-ce6fe231ed08",
   "metadata": {},
   "outputs": [
    {
     "data": {
      "text/html": [
       "<div>\n",
       "<style scoped>\n",
       "    .dataframe tbody tr th:only-of-type {\n",
       "        vertical-align: middle;\n",
       "    }\n",
       "\n",
       "    .dataframe tbody tr th {\n",
       "        vertical-align: top;\n",
       "    }\n",
       "\n",
       "    .dataframe thead th {\n",
       "        text-align: right;\n",
       "    }\n",
       "</style>\n",
       "<table border=\"1\" class=\"dataframe\">\n",
       "  <thead>\n",
       "    <tr style=\"text-align: right;\">\n",
       "      <th></th>\n",
       "      <th>0</th>\n",
       "    </tr>\n",
       "  </thead>\n",
       "  <tbody>\n",
       "    <tr>\n",
       "      <th>0</th>\n",
       "      <td>5</td>\n",
       "    </tr>\n",
       "    <tr>\n",
       "      <th>1</th>\n",
       "      <td>10</td>\n",
       "    </tr>\n",
       "    <tr>\n",
       "      <th>2</th>\n",
       "      <td>15</td>\n",
       "    </tr>\n",
       "    <tr>\n",
       "      <th>3</th>\n",
       "      <td>20</td>\n",
       "    </tr>\n",
       "    <tr>\n",
       "      <th>4</th>\n",
       "      <td>25</td>\n",
       "    </tr>\n",
       "    <tr>\n",
       "      <th>5</th>\n",
       "      <td>30</td>\n",
       "    </tr>\n",
       "    <tr>\n",
       "      <th>6</th>\n",
       "      <td>35</td>\n",
       "    </tr>\n",
       "    <tr>\n",
       "      <th>7</th>\n",
       "      <td>40</td>\n",
       "    </tr>\n",
       "    <tr>\n",
       "      <th>8</th>\n",
       "      <td>45</td>\n",
       "    </tr>\n",
       "    <tr>\n",
       "      <th>9</th>\n",
       "      <td>50</td>\n",
       "    </tr>\n",
       "  </tbody>\n",
       "</table>\n",
       "</div>"
      ],
      "text/plain": [
       "    0\n",
       "0   5\n",
       "1  10\n",
       "2  15\n",
       "3  20\n",
       "4  25\n",
       "5  30\n",
       "6  35\n",
       "7  40\n",
       "8  45\n",
       "9  50"
      ]
     },
     "execution_count": 39,
     "metadata": {},
     "output_type": "execute_result"
    }
   ],
   "source": [
    "pd.DataFrame(list1)"
   ]
  },
  {
   "cell_type": "code",
   "execution_count": 72,
   "id": "8c14e210-a32d-49e5-bdab-bef2ca5f87ad",
   "metadata": {},
   "outputs": [
    {
     "data": {
      "text/plain": [
       "0                Amit\n",
       "1              Ragini\n",
       "2        Raginipandey\n",
       "3        [19, 20, 23]\n",
       "4    [20K, 35K, 1 Cr]\n",
       "Name: 0, dtype: object"
      ]
     },
     "execution_count": 72,
     "metadata": {},
     "output_type": "execute_result"
    }
   ],
   "source": [
    "name=[\"Amit\",\"Ragini\",\"Raginipandey\"]\n",
    "age=['19','20','23']\n",
    "Salary=[\"20K\",\"35K\",\"1 Cr\"]\n",
    "df1=pd.DataFrame(name)\n",
    "name.append(age)\n",
    "\n",
    "name.append(Salary)\n",
    "\n",
    "d=pd.DataFrame(name)\n",
    "d[0]\n",
    "\n"
   ]
  },
  {
   "cell_type": "code",
   "execution_count": 73,
   "id": "1472f4e3-753b-4e15-9696-a5491ac03be7",
   "metadata": {},
   "outputs": [
    {
     "ename": "NameError",
     "evalue": "name 'dtypes' is not defined",
     "output_type": "error",
     "traceback": [
      "\u001b[0;31m---------------------------------------------------------------------------\u001b[0m",
      "\u001b[0;31mNameError\u001b[0m                                 Traceback (most recent call last)",
      "Cell \u001b[0;32mIn[73], line 1\u001b[0m\n\u001b[0;32m----> 1\u001b[0m \u001b[43mdtypes\u001b[49m(d)\n",
      "\u001b[0;31mNameError\u001b[0m: name 'dtypes' is not defined"
     ]
    }
   ],
   "source": []
  },
  {
   "cell_type": "code",
   "execution_count": 103,
   "id": "12ab8598-6188-4962-b3e8-64e10d48e95d",
   "metadata": {},
   "outputs": [
    {
     "name": "stdout",
     "output_type": "stream",
     "text": [
      "   Name  Age  Salary  Location\n",
      "2   bob   35   40000   Bhadohi\n",
      "1  jane   30   30000  Gangkala\n",
      "0  John   25   20000  Varanasi\n",
      "bob 35\n",
      "jane 30\n",
      "John 25\n"
     ]
    }
   ],
   "source": [
    "data={'Name':['John','jane','bob'],\n",
    "      'Age':[25,30,35],\n",
    "      'Salary':[20000,30000,40000],\n",
    "     'Location':['Varanasi','Gangkala','Bhadohi']}\n",
    "df6=pd.DataFrame(data)\n",
    "\n",
    "df7=df6.reindex([2,1,0])\n",
    "print(df7)\n",
    "for index, row in df7.iterrows():\n",
    "    print(row['Name'],row['Age'])"
   ]
  },
  {
   "cell_type": "code",
   "execution_count": null,
   "id": "9ddef485-4244-4868-a103-c528f4703ed6",
   "metadata": {},
   "outputs": [],
   "source": []
  }
 ],
 "metadata": {
  "kernelspec": {
   "display_name": "Python 3 (ipykernel)",
   "language": "python",
   "name": "python3"
  },
  "language_info": {
   "codemirror_mode": {
    "name": "ipython",
    "version": 3
   },
   "file_extension": ".py",
   "mimetype": "text/x-python",
   "name": "python",
   "nbconvert_exporter": "python",
   "pygments_lexer": "ipython3",
   "version": "3.10.8"
  }
 },
 "nbformat": 4,
 "nbformat_minor": 5
}
